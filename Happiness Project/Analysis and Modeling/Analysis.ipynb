{
 "cells": [
  {
   "cell_type": "markdown",
   "metadata": {},
   "source": [
    "# Sentiment Analysis of News Articles Using NLTK"
   ]
  },
  {
   "cell_type": "markdown",
   "metadata": {},
   "source": [
    "### 1. Importing Libraries"
   ]
  },
  {
   "cell_type": "code",
   "execution_count": 113,
   "metadata": {
    "collapsed": true
   },
   "outputs": [],
   "source": [
    "import pandas as pd\n",
    "from nltk.stem import WordNetLemmatizer\n",
    "import nltk\n",
    "import string\n",
    "from collections import Counter\n",
    "from nltk import word_tokenize\n",
    "from nltk.corpus import stopwords"
   ]
  },
  {
   "cell_type": "code",
   "execution_count": 135,
   "metadata": {
    "collapsed": true
   },
   "outputs": [],
   "source": [
    "STOP_WORDS= set(stopwords.words(\"english\")+list(string.punctuation))"
   ]
  },
  {
   "cell_type": "markdown",
   "metadata": {},
   "source": [
    "### 2. Reading prepared Dataset"
   ]
  },
  {
   "cell_type": "code",
   "execution_count": 116,
   "metadata": {},
   "outputs": [],
   "source": [
    "master=pd.read_csv(\"../Datasets/master_sentiment.csv\")"
   ]
  },
  {
   "cell_type": "markdown",
   "metadata": {},
   "source": [
    "### 3. Cleaning the Data"
   ]
  },
  {
   "cell_type": "markdown",
   "metadata": {},
   "source": [
    "#### 3.1. Checking repeat articles"
   ]
  },
  {
   "cell_type": "code",
   "execution_count": 134,
   "metadata": {},
   "outputs": [
    {
     "data": {
      "text/html": [
       "<div>\n",
       "<style>\n",
       "    .dataframe thead tr:only-child th {\n",
       "        text-align: right;\n",
       "    }\n",
       "\n",
       "    .dataframe thead th {\n",
       "        text-align: left;\n",
       "    }\n",
       "\n",
       "    .dataframe tbody tr th {\n",
       "        vertical-align: top;\n",
       "    }\n",
       "</style>\n",
       "<table border=\"1\" class=\"dataframe\">\n",
       "  <thead>\n",
       "    <tr style=\"text-align: right;\">\n",
       "      <th></th>\n",
       "      <th>link</th>\n",
       "      <th>published</th>\n",
       "      <th>title</th>\n",
       "      <th>text</th>\n",
       "      <th>summary</th>\n",
       "      <th>keywords</th>\n",
       "      <th>sentiment</th>\n",
       "    </tr>\n",
       "  </thead>\n",
       "  <tbody>\n",
       "    <tr>\n",
       "      <th>0</th>\n",
       "      <td>https://www.washingtonpost.com/news/worldviews...</td>\n",
       "      <td>Sun, 1 Jul 2018 10:03:49 GMT</td>\n",
       "      <td>Here’s what you need to know about Mexico’s pr...</td>\n",
       "      <td>\\n\\nMexican presidential candidate Andrés Manu...</td>\n",
       "      <td>Mexican presidential candidate Andrés Manuel L...</td>\n",
       "      <td>obrador, president, need, heres, know, trump, ...</td>\n",
       "      <td>0</td>\n",
       "    </tr>\n",
       "    <tr>\n",
       "      <th>1</th>\n",
       "      <td>https://www.cnn.com/2018/07/01/asia/china-aust...</td>\n",
       "      <td>Sun, 1 Jul 2018 12:28:00 GMT</td>\n",
       "      <td>Thailand cave search: Divers close in on missi...</td>\n",
       "      <td>Chiang Rai (CNN) China and Australia have join...</td>\n",
       "      <td>Chiang Rai (CNN) China and Australia have join...</td>\n",
       "      <td>team, coach, close, rescue, missing, boys, cav...</td>\n",
       "      <td>1</td>\n",
       "    </tr>\n",
       "    <tr>\n",
       "      <th>2</th>\n",
       "      <td>https://www.yahoo.com/news/n-korea-aiming-hide...</td>\n",
       "      <td>Sun, 1 Jul 2018 10:15:23 GMT</td>\n",
       "      <td>N. Korea aiming to hide ongoing nuclear produc...</td>\n",
       "      <td>The assessment comes on the heels of a landmar...</td>\n",
       "      <td>Over the weekend NBC News first reported that ...</td>\n",
       "      <td>ongoing, weapons, n, nuclear, hide, washington...</td>\n",
       "      <td>0</td>\n",
       "    </tr>\n",
       "    <tr>\n",
       "      <th>3</th>\n",
       "      <td>https://www.washingtonpost.com/news/worldviews...</td>\n",
       "      <td>Sat, 30 Jun 2018 22:41:15 GMT</td>\n",
       "      <td>Read U.S. ambassador to Estonia's resignation ...</td>\n",
       "      <td>\\n\\nJames D. Melville Jr. addresses dignitarie...</td>\n",
       "      <td>James D. Melville Jr. addresses dignitaries in...</td>\n",
       "      <td>president, resignation, melville, read, estoni...</td>\n",
       "      <td>0</td>\n",
       "    </tr>\n",
       "    <tr>\n",
       "      <th>4</th>\n",
       "      <td>https://www.yahoo.com/news/rebels-resume-peace...</td>\n",
       "      <td>Sun, 1 Jul 2018 11:35:00 GMT</td>\n",
       "      <td>Jordan seeks truce for southwest Syria after a...</td>\n",
       "      <td>Trucks loaded with humanitarian supplies to be...</td>\n",
       "      <td>Trucks loaded with humanitarian supplies to be...</td>\n",
       "      <td>seeks, rebel, towns, states, syria, army, unit...</td>\n",
       "      <td>0</td>\n",
       "    </tr>\n",
       "  </tbody>\n",
       "</table>\n",
       "</div>"
      ],
      "text/plain": [
       "                                                link  \\\n",
       "0  https://www.washingtonpost.com/news/worldviews...   \n",
       "1  https://www.cnn.com/2018/07/01/asia/china-aust...   \n",
       "2  https://www.yahoo.com/news/n-korea-aiming-hide...   \n",
       "3  https://www.washingtonpost.com/news/worldviews...   \n",
       "4  https://www.yahoo.com/news/rebels-resume-peace...   \n",
       "\n",
       "                       published  \\\n",
       "0   Sun, 1 Jul 2018 10:03:49 GMT   \n",
       "1   Sun, 1 Jul 2018 12:28:00 GMT   \n",
       "2   Sun, 1 Jul 2018 10:15:23 GMT   \n",
       "3  Sat, 30 Jun 2018 22:41:15 GMT   \n",
       "4   Sun, 1 Jul 2018 11:35:00 GMT   \n",
       "\n",
       "                                               title  \\\n",
       "0  Here’s what you need to know about Mexico’s pr...   \n",
       "1  Thailand cave search: Divers close in on missi...   \n",
       "2  N. Korea aiming to hide ongoing nuclear produc...   \n",
       "3  Read U.S. ambassador to Estonia's resignation ...   \n",
       "4  Jordan seeks truce for southwest Syria after a...   \n",
       "\n",
       "                                                text  \\\n",
       "0  \\n\\nMexican presidential candidate Andrés Manu...   \n",
       "1  Chiang Rai (CNN) China and Australia have join...   \n",
       "2  The assessment comes on the heels of a landmar...   \n",
       "3  \\n\\nJames D. Melville Jr. addresses dignitarie...   \n",
       "4  Trucks loaded with humanitarian supplies to be...   \n",
       "\n",
       "                                             summary  \\\n",
       "0  Mexican presidential candidate Andrés Manuel L...   \n",
       "1  Chiang Rai (CNN) China and Australia have join...   \n",
       "2  Over the weekend NBC News first reported that ...   \n",
       "3  James D. Melville Jr. addresses dignitaries in...   \n",
       "4  Trucks loaded with humanitarian supplies to be...   \n",
       "\n",
       "                                            keywords  sentiment  \n",
       "0  obrador, president, need, heres, know, trump, ...          0  \n",
       "1  team, coach, close, rescue, missing, boys, cav...          1  \n",
       "2  ongoing, weapons, n, nuclear, hide, washington...          0  \n",
       "3  president, resignation, melville, read, estoni...          0  \n",
       "4  seeks, rebel, towns, states, syria, army, unit...          0  "
      ]
     },
     "execution_count": 134,
     "metadata": {},
     "output_type": "execute_result"
    }
   ],
   "source": [
    "def remove_repeat_articles(articles): \n",
    "    count_and_index=dict()\n",
    "    for index, row in master.iterrows():\n",
    "        try:\n",
    "            count_and_index[ row[\"title\"] ][\"count\"]+=1\n",
    "            count_and_index[ row[\"title\"] ][\"indices\"].append(index)\n",
    "        except:\n",
    "            count_and_index[ row[\"title\"] ]=dict()\n",
    "            count_and_index[ row[\"title\"] ][\"count\"]=1\n",
    "            count_and_index[ row[\"title\"] ][\"indices\"]=[index]\n",
    "\n",
    "    for key, element in count_and_index.items():\n",
    "        if element[\"count\"]>1:\n",
    "            droplist.extend( element[\"indices\"][1:] )\n",
    "  \n",
    "    master_clean = master.drop(master.index[droplist])\n",
    "    master_clean.reset_index(inplace=True, drop=True)\n",
    "    \n",
    "    return master_clean\n",
    "  \n",
    "\n",
    "master_remove_repeat = remove_repeat_articles(master)\n",
    "\n",
    "master_remove_repeat.head()"
   ]
  },
  {
   "cell_type": "markdown",
   "metadata": {},
   "source": [
    "### 4. Preliminary Processing "
   ]
  },
  {
   "cell_type": "code",
   "execution_count": 139,
   "metadata": {
    "collapsed": true
   },
   "outputs": [],
   "source": [
    "def tokenization_remove_stopwords(text):\n",
    "    words_tokenized= word_tokenize(text)\n",
    "    words_sans_stopwords = [w for w in words_tokenized if w not in STOP_WORDS]\n",
    "    return words_sans_stopwords"
   ]
  },
  {
   "cell_type": "code",
   "execution_count": 140,
   "metadata": {},
   "outputs": [
    {
     "data": {
      "text/plain": [
       "['Chiang',\n",
       " 'Rai',\n",
       " 'CNN',\n",
       " 'China',\n",
       " 'Australia',\n",
       " 'joined',\n",
       " 'search',\n",
       " '12',\n",
       " 'boys',\n",
       " 'missing',\n",
       " 'Thai',\n",
       " 'cave',\n",
       " 'divers',\n",
       " 'Sunday',\n",
       " 'closed',\n",
       " 'spot',\n",
       " 'believe',\n",
       " 'teens',\n",
       " 'sheltering',\n",
       " 'The',\n",
       " 'international',\n",
       " 'rescue',\n",
       " 'operation',\n",
       " '--',\n",
       " 'includes',\n",
       " '1,000',\n",
       " 'people',\n",
       " 'Thai',\n",
       " 'emergency',\n",
       " 'services',\n",
       " 'US',\n",
       " 'Military',\n",
       " 'British',\n",
       " 'cave',\n",
       " 'experts',\n",
       " '--',\n",
       " 'ramping',\n",
       " 'efforts',\n",
       " 'since',\n",
       " 'boys',\n",
       " '25-year-old',\n",
       " 'soccer',\n",
       " 'coach',\n",
       " 'disappeared',\n",
       " 'outing',\n",
       " 'caves',\n",
       " 'northern',\n",
       " 'Thailand',\n",
       " 'eight',\n",
       " 'days',\n",
       " 'ago',\n",
       " 'The',\n",
       " 'missing',\n",
       " 'boys',\n",
       " 'coach',\n",
       " 'seen',\n",
       " 'photo',\n",
       " 'taken',\n",
       " 'coach',\n",
       " \"'s\",\n",
       " 'Facebook',\n",
       " 'page',\n",
       " 'Divers',\n",
       " 'closing',\n",
       " 'spot',\n",
       " 'believe',\n",
       " 'missing',\n",
       " 'boys',\n",
       " 'sheltering',\n",
       " 'Tham',\n",
       " 'Luang',\n",
       " 'Nang',\n",
       " 'Non',\n",
       " 'cave',\n",
       " 'system',\n",
       " 'The',\n",
       " 'elevated',\n",
       " 'dry',\n",
       " 'area',\n",
       " 'called',\n",
       " 'Pattaya',\n",
       " 'Beach',\n",
       " 'several',\n",
       " 'kilometers',\n",
       " 'entrance',\n",
       " 'cave',\n",
       " 'Water',\n",
       " 'flooded',\n",
       " 'cave',\n",
       " 'receded',\n",
       " 'recent',\n",
       " 'days',\n",
       " 'allowing',\n",
       " 'rescue',\n",
       " 'teams',\n",
       " 'gain',\n",
       " 'ground',\n",
       " 'according',\n",
       " 'Chiang',\n",
       " 'Rai',\n",
       " 'province',\n",
       " 'governor',\n",
       " 'Narongsak',\n",
       " 'Osatanakorn',\n",
       " 'Read',\n",
       " 'More']"
      ]
     },
     "execution_count": 140,
     "metadata": {},
     "output_type": "execute_result"
    }
   ],
   "source": [
    "sample=master.loc[1,\"text\"]\n",
    "sample_refine= tokenization_remove_stopwords(sample)\n",
    "sample_refine"
   ]
  },
  {
   "cell_type": "code",
   "execution_count": 70,
   "metadata": {},
   "outputs": [
    {
     "data": {
      "text/plain": [
       "\"Chiang Rai (CNN) China and Australia have joined the search for 12 boys missing in a Thai cave, as divers on Sunday closed in on the spot they believe the teens are sheltering.\\n\\nThe international rescue operation -- which includes over 1,000 people from Thai emergency services, the US Military and British cave experts -- has been ramping up its efforts since the boys and their 25-year-old soccer coach disappeared during an outing in the caves in northern Thailand eight days ago.\\n\\nThe missing boys, with their coach, are seen here in a photo taken from the coach's Facebook page.\\n\\nDivers are now closing in on the spot where they believe the missing boys are sheltering in the Tham Luang Nang Non cave system.\\n\\nThe elevated dry area, called Pattaya Beach, is several kilometers from the entrance of the cave.\\n\\nWater from the flooded cave has receded in recent days, allowing rescue teams to gain ground, according to Chiang Rai province governor Narongsak Osatanakorn.\\n\\nRead More\""
      ]
     },
     "execution_count": 70,
     "metadata": {},
     "output_type": "execute_result"
    }
   ],
   "source": [
    "sample"
   ]
  },
  {
   "cell_type": "code",
   "execution_count": 87,
   "metadata": {},
   "outputs": [
    {
     "data": {
      "text/plain": [
       "106"
      ]
     },
     "execution_count": 87,
     "metadata": {},
     "output_type": "execute_result"
    }
   ],
   "source": [
    "stop_words= set(stopwords.words(\"english\")+list(string.punctuation))\n",
    "words_without_stopwords= [w for w in words_sample if w not in stop_words]\n",
    "len(words_without_stopwords)"
   ]
  },
  {
   "cell_type": "code",
   "execution_count": null,
   "metadata": {
    "collapsed": true
   },
   "outputs": [],
   "source": []
  },
  {
   "cell_type": "code",
   "execution_count": null,
   "metadata": {
    "collapsed": true
   },
   "outputs": [],
   "source": []
  }
 ],
 "metadata": {
  "kernelspec": {
   "display_name": "Python 3",
   "language": "python",
   "name": "python3"
  },
  "language_info": {
   "codemirror_mode": {
    "name": "ipython",
    "version": 3
   },
   "file_extension": ".py",
   "mimetype": "text/x-python",
   "name": "python",
   "nbconvert_exporter": "python",
   "pygments_lexer": "ipython3",
   "version": "3.6.3"
  }
 },
 "nbformat": 4,
 "nbformat_minor": 2
}
